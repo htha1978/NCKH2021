{
 "cells": [
  {
   "cell_type": "code",
   "execution_count": 1,
   "metadata": {},
   "outputs": [],
   "source": [
    "import os\n",
    "\n",
    "import ipywidgets as widgets\n",
    "\n",
    "\n",
    "class FileBrowser(object):\n",
    "    def __init__(self):\n",
    "        self.path = os.getcwd()\n",
    "        self._update_files()\n",
    "        \n",
    "    def _update_files(self):\n",
    "        self.files = list()\n",
    "        self.dirs = list()\n",
    "        if(os.path.isdir(self.path)):\n",
    "            for f in os.listdir(self.path):\n",
    "                ff = self.path + \"/\" + f\n",
    "                if os.path.isdir(ff):\n",
    "                    self.dirs.append(f)\n",
    "                else:\n",
    "                    self.files.append(f)\n",
    "        \n",
    "    def widget(self):\n",
    "        box = widgets.VBox()\n",
    "        self._update(box)\n",
    "        return box\n",
    "    \n",
    "    def _update(self, box):\n",
    "        \n",
    "        def on_click(b):\n",
    "            if b.description == '..':\n",
    "                self.path = os.path.split(self.path)[0]\n",
    "            else:\n",
    "                self.path = self.path + \"/\" + b.description\n",
    "            self._update_files()\n",
    "            self._update(box)\n",
    "        \n",
    "        buttons = []\n",
    "        if self.files:\n",
    "            button = widgets.Button(description='..', background_color='#d0d0ff')\n",
    "            button.on_click(on_click)\n",
    "            buttons.append(button)\n",
    "        for f in self.dirs:\n",
    "            button = widgets.Button(description=f, background_color='#d0d0ff')\n",
    "            button.on_click(on_click)\n",
    "            buttons.append(button)\n",
    "        for f in self.files:\n",
    "            button = widgets.Button(description=f)\n",
    "            button.on_click(on_click)\n",
    "            buttons.append(button)\n",
    "        box.children = tuple([widgets.HTML(\"<h2>%s</h2>\" % (self.path,))] + buttons)\n",
    "\n",
    "# example usage:\n",
    "#   f = FileBrowser()\n",
    "#   f.widget()\n",
    "#   <interact with widget, select a path>\n",
    "# in a separate cell:\n",
    "#   f.path # returns the selected path"
   ]
  },
  {
   "cell_type": "code",
   "execution_count": 3,
   "metadata": {},
   "outputs": [
    {
     "data": {
      "application/vnd.jupyter.widget-view+json": {
       "model_id": "62013a38c45846d6a993fb9aa147df2e",
       "version_major": 2,
       "version_minor": 0
      },
      "text/plain": [
       "VBox(children=(HTML(value='<h2>C:\\\\Users\\\\Duong</h2>'), Button(description='..', style=ButtonStyle()), Button(…"
      ]
     },
     "metadata": {},
     "output_type": "display_data"
    }
   ],
   "source": [
    "f = FileBrowser()\n",
    "f.widget()"
   ]
  },
  {
   "cell_type": "code",
   "execution_count": 2,
   "metadata": {},
   "outputs": [
    {
     "data": {
      "application/vnd.jupyter.widget-view+json": {
       "model_id": "2e8719001abf4d9f874da663482c7f35",
       "version_major": 2,
       "version_minor": 0
      },
      "text/plain": [
       "FileUploadWidget(label='Browse', _dom_classes=('widget_item', 'btn-group'))"
      ]
     },
     "metadata": {},
     "output_type": "display_data"
    }
   ],
   "source": [
    "import io\n",
    "from IPython.display import display\n",
    "import fileupload\n",
    "\n",
    "def _upload():\n",
    "\n",
    "    _upload_widget = fileupload.FileUploadWidget()\n",
    "\n",
    "    def _cb(change):\n",
    "        decoded = io.StringIO(change['owner'].data.decode('utf-8'))\n",
    "        filename = change['owner'].filename\n",
    "        print('Uploaded `{}` ({:.2f} kB)'.format(\n",
    "            filename, len(decoded.read()) / 2 **10))\n",
    "\n",
    "    _upload_widget.observe(_cb, names='data')\n",
    "    display(_upload_widget)\n",
    "\n",
    "_upload()"
   ]
  },
  {
   "cell_type": "code",
   "execution_count": null,
   "metadata": {},
   "outputs": [],
   "source": []
  }
 ],
 "metadata": {
  "kernelspec": {
   "display_name": "Python 3",
   "language": "python",
   "name": "python3"
  },
  "language_info": {
   "codemirror_mode": {
    "name": "ipython",
    "version": 3
   },
   "file_extension": ".py",
   "mimetype": "text/x-python",
   "name": "python",
   "nbconvert_exporter": "python",
   "pygments_lexer": "ipython3",
   "version": "3.7.1"
  }
 },
 "nbformat": 4,
 "nbformat_minor": 2
}
